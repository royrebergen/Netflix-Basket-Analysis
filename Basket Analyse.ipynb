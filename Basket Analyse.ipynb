{
 "cells": [
  {
   "cell_type": "code",
   "execution_count": 108,
   "metadata": {},
   "outputs": [],
   "source": [
    "import pandas as pd\n",
    "import numpy as np\n",
    "from matplotlib.pyplot import plot\n",
    "import glob\n",
    "import os"
   ]
  },
  {
   "cell_type": "markdown",
   "metadata": {},
   "source": [
    "## Get the Netflix data"
   ]
  },
  {
   "cell_type": "code",
   "execution_count": 251,
   "metadata": {},
   "outputs": [],
   "source": [
    "files = glob.glob(os.path.join('', \"data/*.csv\"))\n",
    "data = pd.concat({i.replace('data/','').replace('.csv','').capitalize(): pd.read_csv(i) for i in files}).reset_index()\n",
    "del(data['level_1'])\n",
    "data.columns = ['Person', 'Title', 'Date']\n",
    "data['Date'] = pd.to_datetime(data['Date'])"
   ]
  },
  {
   "cell_type": "markdown",
   "metadata": {},
   "source": [
    "### Data exploration"
   ]
  },
  {
   "cell_type": "code",
   "execution_count": 329,
   "metadata": {},
   "outputs": [
    {
     "name": "stdout",
     "output_type": "stream",
     "text": [
      "======== PERSONEN IN DE DATASET ========\n",
      "Celeste\n",
      "Daan\n",
      "Moussa\n",
      "Paul\n",
      "Roy\n"
     ]
    }
   ],
   "source": [
    "print ('{:=^40}'.format(' PERSONEN IN DE DATASET '))\n",
    "print(*list(data.Person.unique()), sep='\\n')"
   ]
  },
  {
   "cell_type": "code",
   "execution_count": 253,
   "metadata": {},
   "outputs": [
    {
     "data": {
      "text/plain": [
       "(6495, 3)"
      ]
     },
     "execution_count": 253,
     "metadata": {},
     "output_type": "execute_result"
    }
   ],
   "source": [
    "data.shape"
   ]
  },
  {
   "cell_type": "code",
   "execution_count": 254,
   "metadata": {},
   "outputs": [
    {
     "data": {
      "text/plain": [
       "'Data loopt van 2014-01-07 t/m 2018-12-08'"
      ]
     },
     "execution_count": 254,
     "metadata": {},
     "output_type": "execute_result"
    }
   ],
   "source": [
    "\"Data loopt van {} t/m {}\".format(data.Date.min().date(), data.Date.max().date())"
   ]
  },
  {
   "cell_type": "code",
   "execution_count": 306,
   "metadata": {},
   "outputs": [
    {
     "data": {
      "text/html": [
       "<div>\n",
       "<table border=\"1\" class=\"dataframe\">\n",
       "  <thead>\n",
       "    <tr style=\"text-align: right;\">\n",
       "      <th></th>\n",
       "      <th>Person</th>\n",
       "      <th>Title</th>\n",
       "      <th>Date</th>\n",
       "      <th>is_serie</th>\n",
       "      <th>production_title</th>\n",
       "    </tr>\n",
       "  </thead>\n",
       "  <tbody>\n",
       "    <tr>\n",
       "      <th>6490</th>\n",
       "      <td>Roy</td>\n",
       "      <td>Top Gear: Seizoen 17: Aflevering 4</td>\n",
       "      <td>2015-10-27</td>\n",
       "      <td>True</td>\n",
       "      <td>Top Gear</td>\n",
       "    </tr>\n",
       "    <tr>\n",
       "      <th>6491</th>\n",
       "      <td>Roy</td>\n",
       "      <td>Family Guy: Seizoen 12: A Fistful of Meg</td>\n",
       "      <td>2015-10-27</td>\n",
       "      <td>True</td>\n",
       "      <td>Family Guy</td>\n",
       "    </tr>\n",
       "    <tr>\n",
       "      <th>6492</th>\n",
       "      <td>Roy</td>\n",
       "      <td>Family Guy: Seizoen 12: Quagmire's Quagmire</td>\n",
       "      <td>2015-10-27</td>\n",
       "      <td>True</td>\n",
       "      <td>Family Guy</td>\n",
       "    </tr>\n",
       "    <tr>\n",
       "      <th>6493</th>\n",
       "      <td>Roy</td>\n",
       "      <td>Top Gear: Seizoen 17: Aflevering 3</td>\n",
       "      <td>2015-10-27</td>\n",
       "      <td>True</td>\n",
       "      <td>Top Gear</td>\n",
       "    </tr>\n",
       "    <tr>\n",
       "      <th>6494</th>\n",
       "      <td>Roy</td>\n",
       "      <td>Family Guy: Seizoen 11: Turban Cowboy</td>\n",
       "      <td>2015-10-26</td>\n",
       "      <td>True</td>\n",
       "      <td>Family Guy</td>\n",
       "    </tr>\n",
       "  </tbody>\n",
       "</table>\n",
       "</div>"
      ],
      "text/plain": [
       "     Person                                        Title       Date is_serie  \\\n",
       "6490    Roy           Top Gear: Seizoen 17: Aflevering 4 2015-10-27     True   \n",
       "6491    Roy     Family Guy: Seizoen 12: A Fistful of Meg 2015-10-27     True   \n",
       "6492    Roy  Family Guy: Seizoen 12: Quagmire's Quagmire 2015-10-27     True   \n",
       "6493    Roy           Top Gear: Seizoen 17: Aflevering 3 2015-10-27     True   \n",
       "6494    Roy        Family Guy: Seizoen 11: Turban Cowboy 2015-10-26     True   \n",
       "\n",
       "     production_title  \n",
       "6490         Top Gear  \n",
       "6491       Family Guy  \n",
       "6492       Family Guy  \n",
       "6493         Top Gear  \n",
       "6494       Family Guy  "
      ]
     },
     "execution_count": 306,
     "metadata": {},
     "output_type": "execute_result"
    }
   ],
   "source": [
    "data.tail()"
   ]
  },
  {
   "cell_type": "code",
   "execution_count": 255,
   "metadata": {},
   "outputs": [
    {
     "data": {
      "text/plain": [
       "<matplotlib.axes._subplots.AxesSubplot at 0x7faea3d687f0>"
      ]
     },
     "execution_count": 255,
     "metadata": {},
     "output_type": "execute_result"
    },
    {
     "data": {
      "image/png": "[encoded data removed]",
      "text/plain": [
       "<matplotlib.figure.Figure at 0x7faea3748f98>"
      ]
     },
     "metadata": {},
     "output_type": "display_data"
    }
   ],
   "source": [
    "data.groupby('Person')['Title'].count().sort_values(ascending=False).plot('barh',grid=True)"
   ]
  },
  {
   "cell_type": "code",
   "execution_count": 345,
   "metadata": {},
   "outputs": [],
   "source": [
    "# Is the title part of a serie or movie; if serie: What is the title of the show?\n",
    "\n",
    "def get_serie_title(row, term):\n",
    "    return row[\"Title\"][:(row[\"Title\"].find(term) - 2)]\n",
    "\n",
    "def check_if_serie(row):\n",
    "    is_serie = False\n",
    "    production_title = row[\"Title\"]\n",
    "    \n",
    "    serie_indicators = ['Season', 'Seizoen', 'Deel', 'Aflevering', 'Hoofdstuk']\n",
    "    \n",
    "    for i in serie_indicators:\n",
    "        if row[\"Title\"].find(i) != -1:\n",
    "            production_title = get_serie_title(row, i)\n",
    "            is_serie = True\n",
    "            break\n",
    "    \n",
    "    return pd.Series({'is_serie':is_serie, 'production_title':production_title})\n",
    "\n",
    "\n",
    "data[['is_serie', 'production_title']] = data.apply(lambda row: check_if_serie(row), axis=1)"
   ]
  },
  {
   "cell_type": "code",
   "execution_count": 346,
   "metadata": {
    "scrolled": true
   },
   "outputs": [
    {
     "data": {
      "text/plain": [
       "(-1.0513699165275434,\n",
       " 1.1617502478932011,\n",
       " -1.3090087370190966,\n",
       " 1.1099527970009093)"
      ]
     },
     "execution_count": 346,
     "metadata": {},
     "output_type": "execute_result"
    },
    {
     "data": {
      "image/png": "[encoded data removed]",
      "text/plain": [
       "<matplotlib.figure.Figure at 0x7faea225e7b8>"
      ]
     },
     "metadata": {},
     "output_type": "display_data"
    }
   ],
   "source": [
    "data.groupby(['is_serie'])['is_serie'].count().plot('pie', autopct='%1.0f%%', colors=['red', 'green'], explode=(0, 0.2),shadow=True, startangle=90).axis('equal')"
   ]
  },
  {
   "cell_type": "code",
   "execution_count": 352,
   "metadata": {
    "scrolled": false
   },
   "outputs": [
    {
     "data": {
      "text/html": [
       "<div>\n",
       "<table border=\"1\" class=\"dataframe\">\n",
       "  <thead>\n",
       "    <tr style=\"text-align: right;\">\n",
       "      <th></th>\n",
       "      <th>Person</th>\n",
       "      <th>Title</th>\n",
       "      <th>Date</th>\n",
       "      <th>is_serie</th>\n",
       "      <th>production_title</th>\n",
       "    </tr>\n",
       "  </thead>\n",
       "  <tbody>\n",
       "    <tr>\n",
       "      <th>0</th>\n",
       "      <td>Celeste</td>\n",
       "      <td>Explained: Season 1: Can We Live Forever?</td>\n",
       "      <td>2018-08-17</td>\n",
       "      <td>True</td>\n",
       "      <td>Explained</td>\n",
       "    </tr>\n",
       "    <tr>\n",
       "      <th>1</th>\n",
       "      <td>Celeste</td>\n",
       "      <td>Explained: Season 1: Monogamy</td>\n",
       "      <td>2018-08-17</td>\n",
       "      <td>True</td>\n",
       "      <td>Explained</td>\n",
       "    </tr>\n",
       "    <tr>\n",
       "      <th>2</th>\n",
       "      <td>Celeste</td>\n",
       "      <td>Explained: Season 1: K-Pop</td>\n",
       "      <td>2018-08-17</td>\n",
       "      <td>True</td>\n",
       "      <td>Explained</td>\n",
       "    </tr>\n",
       "    <tr>\n",
       "      <th>3</th>\n",
       "      <td>Celeste</td>\n",
       "      <td>Explained: Season 1: Cryptocurrency</td>\n",
       "      <td>2018-08-17</td>\n",
       "      <td>True</td>\n",
       "      <td>Explained</td>\n",
       "    </tr>\n",
       "    <tr>\n",
       "      <th>4</th>\n",
       "      <td>Celeste</td>\n",
       "      <td>Comedians in Cars Getting Coffee: New 2018: Fr...</td>\n",
       "      <td>2018-08-17</td>\n",
       "      <td>False</td>\n",
       "      <td>Comedians in Cars Getting Coffee: New 2018: Fr...</td>\n",
       "    </tr>\n",
       "  </tbody>\n",
       "</table>\n",
       "</div>"
      ],
      "text/plain": [
       "    Person                                              Title       Date  \\\n",
       "0  Celeste          Explained: Season 1: Can We Live Forever? 2018-08-17   \n",
       "1  Celeste                      Explained: Season 1: Monogamy 2018-08-17   \n",
       "2  Celeste                         Explained: Season 1: K-Pop 2018-08-17   \n",
       "3  Celeste                Explained: Season 1: Cryptocurrency 2018-08-17   \n",
       "4  Celeste  Comedians in Cars Getting Coffee: New 2018: Fr... 2018-08-17   \n",
       "\n",
       "  is_serie                                   production_title  \n",
       "0     True                                          Explained  \n",
       "1     True                                          Explained  \n",
       "2     True                                          Explained  \n",
       "3     True                                          Explained  \n",
       "4    False  Comedians in Cars Getting Coffee: New 2018: Fr...  "
      ]
     },
     "execution_count": 352,
     "metadata": {},
     "output_type": "execute_result"
    }
   ],
   "source": [
    "data.head()"
   ]
  },
  {
   "cell_type": "code",
   "execution_count": 385,
   "metadata": {
    "scrolled": false
   },
   "outputs": [
    {
     "data": {
      "text/plain": [
       "<matplotlib.axes._subplots.AxesSubplot at 0x7fae939b8f60>"
      ]
     },
     "execution_count": 385,
     "metadata": {},
     "output_type": "execute_result"
    },
    {
     "data": {
      "image/png": "[encoded data removed]",
      "text/plain": [
       "<matplotlib.figure.Figure at 0x7fae93a25048>"
      ]
     },
     "metadata": {},
     "output_type": "display_data"
    }
   ],
   "source": [
    "data.groupby(\"production_title\")['Date'].count().sort_values(ascending=False).head(10).plot('barH')"
   ]
  },
  {
   "cell_type": "code",
   "execution_count": 374,
   "metadata": {},
   "outputs": [
    {
     "data": {
      "text/plain": [
       "703"
      ]
     },
     "execution_count": 374,
     "metadata": {},
     "output_type": "execute_result"
    }
   ],
   "source": [
    "# Unique production titles\n",
    "len(data[\"production_title\"].unique())"
   ]
  }
 ],
 "metadata": {
  "kernelspec": {
   "display_name": "Python 3",
   "language": "python",
   "name": "python3"
  },
  "language_info": {
   "codemirror_mode": {
    "name": "ipython",
    "version": 3
   },
   "file_extension": ".py",
   "mimetype": "text/x-python",
   "name": "python",
   "nbconvert_exporter": "python",
   "pygments_lexer": "ipython3",
   "version": "3.6.3"
  }
 },
 "nbformat": 4,
 "nbformat_minor": 2
}
